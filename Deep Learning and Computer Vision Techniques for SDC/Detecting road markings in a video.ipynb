{
 "cells": [
  {
   "cell_type": "code",
   "execution_count": 1,
   "metadata": {},
   "outputs": [],
   "source": [
    "import cv2\n",
    "import numpy as np\n",
    "import matplotlib.pyplot as plt"
   ]
  },
  {
   "cell_type": "code",
   "execution_count": 2,
   "metadata": {},
   "outputs": [],
   "source": [
    "def make_coordinates(image, line_parameters):\n",
    "    slope, intercept = line_parameters\n",
    "    y1 = image.shape[0]\n",
    "    y2 = int(y1*(3/5))\n",
    "    x1 = int((y1-intercept)/slope)\n",
    "    x2 = int((y2 - intercept)/slope)\n",
    "    return np.array([x1,y1,x2,y2])\n"
   ]
  },
  {
   "cell_type": "code",
   "execution_count": 3,
   "metadata": {},
   "outputs": [],
   "source": [
    "def average_slope_intercept(image, line):\n",
    "    left_fit = []\n",
    "    right_fit=[]\n",
    "    for line in lines:\n",
    "        x1, y1, x2, y2 = line.shape()\n",
    "        parameter = np.polyfit((x1, x2), (y1, 2))\n",
    "        slope = parameter[0]\n",
    "        intercept = parameter[1]\n",
    "        if slope < 0:\n",
    "            left_fit.append((slope, intercept))\n",
    "        else:\n",
    "            right_fit.append((slope, intercept))\n",
    "        left_fit_average =np.average(left_fit, axis=0)\n",
    "        right_fit_average = np.average(right_fit, axis =0)\n",
    "        left_line =make_coordinates(image, left_fit_average)\n",
    "        right_line = make_coordinates(image, right_fit_average)\n",
    "        return np.array([left_line, right_line])"
   ]
  },
  {
   "cell_type": "code",
   "execution_count": 5,
   "metadata": {},
   "outputs": [],
   "source": [
    "def canny_edge(image):\n",
    "    gray_conversion = cv2.cvtColor(image, cv2.COLOR_RGB2GRAY)\n",
    "    blur_conversion = cv2.GaussianBlur(gray_conversion, (5,5),0) \n",
    "    canny_conversion = cv2.Canny(blur_conversion, 50,150)\n",
    "    return canny_conversion"
   ]
  },
  {
   "cell_type": "code",
   "execution_count": null,
   "metadata": {},
   "outputs": [],
   "source": []
  }
 ],
 "metadata": {
  "kernelspec": {
   "display_name": "base",
   "language": "python",
   "name": "python3"
  },
  "language_info": {
   "codemirror_mode": {
    "name": "ipython",
    "version": 3
   },
   "file_extension": ".py",
   "mimetype": "text/x-python",
   "name": "python",
   "nbconvert_exporter": "python",
   "pygments_lexer": "ipython3",
   "version": "3.11.7"
  }
 },
 "nbformat": 4,
 "nbformat_minor": 2
}
